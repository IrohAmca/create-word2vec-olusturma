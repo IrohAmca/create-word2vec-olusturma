{
 "cells": [
  {
   "cell_type": "code",
   "execution_count": 9,
   "metadata": {},
   "outputs": [],
   "source": [
    "import numpy as np\n",
    "from gensim.models import Word2Vec\n",
    "\n",
    "import matplotlib.pyplot as plt"
   ]
  },
  {
   "cell_type": "code",
   "execution_count": 10,
   "metadata": {},
   "outputs": [],
   "source": [
    "f = open('hurriyet.txt', 'r', encoding='utf8')\n",
    "text = f.read()\n",
    "t_list = text.split('\\n')\n",
    "\n",
    "corpus = []\n",
    "\n",
    "for cumle in t_list:\n",
    "    corpus.append(cumle.split())"
   ]
  },
  {
   "cell_type": "code",
   "execution_count": 11,
   "metadata": {},
   "outputs": [
    {
     "name": "stdout",
     "output_type": "stream",
     "text": [
      "[['iran', 'devlet', 'televizyonu', 'ülkedeki', 'eyaletin', 'sinde', 'yapılan', 'reformcuları', 'protesto', 'amaçlı', 'yürüyüşlere', 'milyonlarca', 'kişinin', 'katıldığını', 'bildirdi'], ['gösterilerde', 'fitnecilere', 'ölüm', 'münafıklara', 'ölüm', 'abd', 'ye', 'ölüm', 'ingiltere', 'ye', 'ölüm', 'sloganları', 'atıldı'], ['dini', 'lider', 'ali', 'hamaney', 've', 'cumhurbaşkanı', 'mahmud', 'ahmedinejad', 'ı', 'destekleyen', 'iranlılar', 'son', 'olaylarda', 'yeğeni', 'öldürülen', 'mir', 'hüseyin', 'musevi', 'başta', 'olmak', 'üzere', 'muhalefet', 'liderlerini', 'kınadılar'], ['musevi', 'ye', 'ölüm', 've', 'idam', 'idam', 'sloganları', 'duyuldu'], ['muhalefet', 'liderleri', 'kaçtı', 'mı', 'aşure', 'günü', 'yaşanan', 'çatışmalarda', 'devlet', 'kaynaklarına', 'göre', 'u', 'terörist', 'olmak', 'üzere', 'kişi', 'ölmüştü'], ['den', 'fazla', 'kişinin', 'yaralandığı', 'olaylar', 'sırasında', 'en', 'az', 'kişi', 'tutuklanmıştı'], ['öte', 'yandan', 'iran', 'haber', 'ajansı', 'irna', 'muhalif', 'liderler', 'mir', 'hüseyin', 'musevi', 've', 'mehdi', 'kerrubi', 'nin', 'başkentten', 'kaçarak', 'ülkenin', 'kuzeyine', 'geçtiğini', 'ileri', 'sürdü', 'ancak', 'muhalefet', 'iddiayı', 'yalanladı'], ['hamaney', 'in', 'bir', 'dönem', 'korumalığını', 'yapan', 've', 'şu', 'anda', 'fransa', 'da', 'saklandığı', 'söylenen', 'bir', 'kişinin', 'muhalefete', 'verdiği', 'bilgilere', 'göre', 'münzevi', 'yaşamı', 'na', 'rağmen', 'dini', 'liderin', 'havyara', 'karşı', 'korkunç', 'bir', 'iştahı', 'var'], ['baston', 've', 'at', 'meraklısı', 'hamaney', 'aynı', 'zamanda', 'değerli', 'mücevherlerle', 'bezenmiş', 'bastonların', 've', 'cins', 'atların', 'koleksiyonunu', 'yapıyor'], ['hamaney', 'in', 'antika', 'bastonlarının', 'sayısı']]\n"
     ]
    }
   ],
   "source": [
    "print(corpus[:10])"
   ]
  },
  {
   "cell_type": "code",
   "execution_count": 15,
   "metadata": {},
   "outputs": [],
   "source": [
    "model = Word2Vec(corpus, vector_size=100, window=5, min_count=5, sg=1)"
   ]
  },
  {
   "cell_type": "code",
   "execution_count": 16,
   "metadata": {},
   "outputs": [
    {
     "data": {
      "text/plain": [
       "array([-0.03894528, -0.27993357, -0.08504314,  0.24265246,  0.5815422 ,\n",
       "        0.15359649, -0.17321242,  0.8387971 , -0.23937255, -0.25308204,\n",
       "       -0.21161833, -0.4587465 , -0.36453572,  0.24478929, -0.19163893,\n",
       "        0.41744065,  0.4351325 , -0.3232849 , -0.04843136, -0.7848911 ,\n",
       "       -0.06005152,  0.5865696 ,  0.67027885, -0.76737034, -0.10707133,\n",
       "        0.08710826, -0.31253123, -0.12984964, -0.40904275,  0.6351811 ,\n",
       "        0.10812724, -0.03917508, -0.33119294, -0.5866513 , -0.1143328 ,\n",
       "       -0.2950555 , -0.25726768, -0.12974253,  0.10425184, -0.38987103,\n",
       "        0.326954  ,  0.05628746,  0.25520122, -0.11469431,  0.45737854,\n",
       "        0.08584751, -0.6290814 , -0.07868367, -0.13122906, -0.13798004,\n",
       "        0.1381972 , -0.153689  ,  0.23615234,  0.13356456, -0.11753098,\n",
       "       -0.156478  , -0.37632436,  0.3123724 , -0.4534105 , -0.06776278,\n",
       "        0.03932773,  0.06735484,  0.042291  ,  0.31172788, -0.28648582,\n",
       "       -0.0783694 ,  0.05727617, -0.06202036, -0.06546827, -0.28789148,\n",
       "       -0.06918462, -0.12883224,  0.2905169 , -0.24767695,  0.45613515,\n",
       "        0.12539713,  0.15772031, -0.35933176, -0.20619594, -0.05258445,\n",
       "        0.5723586 , -0.702971  ,  0.05166024,  0.516211  ,  0.43245617,\n",
       "       -0.36040038,  0.34404486,  0.33640382,  0.77344453,  0.63415253,\n",
       "        0.42342845, -0.09839582, -0.00578889,  0.05846094,  0.6215834 ,\n",
       "        0.15368699,  0.04695855,  0.0446698 ,  0.18149541,  0.1837046 ],\n",
       "      dtype=float32)"
      ]
     },
     "execution_count": 16,
     "metadata": {},
     "output_type": "execute_result"
    }
   ],
   "source": [
    "model.wv['ankara']"
   ]
  },
  {
   "cell_type": "code",
   "execution_count": 23,
   "metadata": {},
   "outputs": [
    {
     "data": {
      "text/plain": [
       "[('tl', 0.9002925157546997),\n",
       " ('doları', 0.8731781244277954),\n",
       " ('milyar', 0.872287929058075),\n",
       " ('milyon', 0.8696626424789429),\n",
       " ('lira', 0.8599071502685547),\n",
       " ('dolarlık', 0.8576681613922119),\n",
       " ('sterlin', 0.8485025763511658),\n",
       " ('dolardan', 0.8218284249305725),\n",
       " ('dolara', 0.8151002526283264),\n",
       " ('euro', 0.8092768788337708)]"
      ]
     },
     "execution_count": 23,
     "metadata": {},
     "output_type": "execute_result"
    }
   ],
   "source": [
    "model.wv.most_similar('dolar')"
   ]
  },
  {
   "cell_type": "code",
   "execution_count": 9,
   "metadata": {},
   "outputs": [],
   "source": [
    "model.save('word2vec.model')"
   ]
  },
  {
   "cell_type": "code",
   "execution_count": 10,
   "metadata": {},
   "outputs": [],
   "source": [
    "model = Word2Vec.load('word2vec.model')"
   ]
  },
  {
   "cell_type": "code",
   "execution_count": null,
   "metadata": {},
   "outputs": [],
   "source": []
  }
 ],
 "metadata": {
  "kernelspec": {
   "display_name": "Python 3 (ipykernel)",
   "language": "python",
   "name": "python3"
  },
  "language_info": {
   "codemirror_mode": {
    "name": "ipython",
    "version": 3
   },
   "file_extension": ".py",
   "mimetype": "text/x-python",
   "name": "python",
   "nbconvert_exporter": "python",
   "pygments_lexer": "ipython3",
   "version": "3.10.9"
  }
 },
 "nbformat": 4,
 "nbformat_minor": 2
}
